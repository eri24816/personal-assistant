{
 "cells": [
  {
   "cell_type": "code",
   "execution_count": 1,
   "metadata": {},
   "outputs": [
    {
     "name": "stderr",
     "output_type": "stream",
     "text": [
      "c:\\Users\\a931e\\miniconda3\\envs\\12\\Lib\\site-packages\\onnxruntime\\capi\\onnxruntime_validation.py:26: UserWarning: Unsupported Windows version (11). ONNX Runtime supports Windows 10 and above, only.\n",
      "  warnings.warn(\n"
     ]
    }
   ],
   "source": [
    "import dotenv\n",
    "import os\n",
    "from langchain_openai import ChatOpenAI\n",
    "from langchain_openai import OpenAIEmbeddings\n",
    "from langchain_chroma import Chroma\n",
    "\n",
    "dotenv.load_dotenv()\n",
    "\n",
    "llm = ChatOpenAI(model=\"gpt-4o-mini\")\n",
    "\n",
    "embeddings = OpenAIEmbeddings(model=\"text-embedding-3-large\")\n",
    "\n",
    "vector_store = Chroma(embedding_function=embeddings)"
   ]
  },
  {
   "cell_type": "code",
   "execution_count": 2,
   "metadata": {},
   "outputs": [],
   "source": [
    "import ast\n",
    "def my_exec(script, globals=None, locals=None):\n",
    "    '''Execute a script and return the value of the last expression'''\n",
    "    stmts = list(ast.iter_child_nodes(ast.parse(script)))\n",
    "    if not stmts:\n",
    "        return None\n",
    "    if isinstance(stmts[-1], ast.Expr):\n",
    "        # the last one is an expression and we will try to return the results\n",
    "        # so we first execute the previous statements\n",
    "        if len(stmts) > 1:\n",
    "            exec(compile(ast.Module(body=stmts[:-1]), filename=\"<ast>\", mode=\"exec\"), globals, locals)\n",
    "        # then we eval the last one\n",
    "        return eval(compile(ast.Expression(body=stmts[-1].value), filename=\"<ast>\", mode=\"eval\"), globals, locals)\n",
    "    else:\n",
    "        # otherwise we just execute the entire code\n",
    "        return exec(script, globals, locals)"
   ]
  },
  {
   "cell_type": "code",
   "execution_count": 31,
   "metadata": {},
   "outputs": [
    {
     "name": "stderr",
     "output_type": "stream",
     "text": [
      "c:\\Users\\a931e\\miniconda3\\envs\\12\\Lib\\site-packages\\langsmith\\client.py:241: LangSmithMissingAPIKeyWarning: API key must be provided when using hosted LangSmith API\n",
      "  warnings.warn(\n"
     ]
    }
   ],
   "source": [
    "from typing import Annotated\n",
    "import bs4\n",
    "from langchain import hub\n",
    "from langchain_community.document_loaders import WebBaseLoader\n",
    "from langchain_core.documents import Document\n",
    "from langchain_text_splitters import RecursiveCharacterTextSplitter\n",
    "from langgraph.graph import START, StateGraph, MessagesState\n",
    "from langgraph.checkpoint.memory import MemorySaver\n",
    "from typing_extensions import List, TypedDict\n",
    "from langchain_core.tools import tool\n",
    "\n",
    "\n",
    "from langchain_core.messages import SystemMessage\n",
    "from langgraph.prebuilt import InjectedState, InjectedState, InjectedState, ToolNode\n",
    "\n",
    "from langgraph.graph import END\n",
    "from langgraph.prebuilt import tools_condition\n",
    "\n",
    "# Load and chunk contents of the blog\n",
    "loader = WebBaseLoader(\n",
    "    web_paths=(\"https://eri24816.tw/post/summer_intern/\",),\n",
    "    bs_kwargs=dict(\n",
    "    ),\n",
    ")\n",
    "docs = loader.load()\n",
    "\n",
    "text_splitter = RecursiveCharacterTextSplitter(chunk_size=1000, chunk_overlap=200)\n",
    "all_splits = text_splitter.split_documents(docs)\n",
    "\n",
    "# Index chunks\n",
    "_ = vector_store.add_documents(documents=all_splits)\n",
    "\n",
    "# Define prompt for question-answering\n",
    "prompt = hub.pull(\"rlm/rag-prompt\")\n",
    "\n",
    "\n",
    "# Define state for application\n",
    "class State(MessagesState):\n",
    "    context: List[Document]\n",
    "    \n",
    "@tool(response_format=\"content_and_artifact\")\n",
    "def get_website_content(url: str):\n",
    "    \"\"\"Get the content of a website\"\"\"\n",
    "    loader = WebBaseLoader(web_paths=(url,))\n",
    "    docs = loader.load()\n",
    "    return docs[0].page_content, docs\n",
    "\n",
    "@tool(response_format=\"content_and_artifact\")\n",
    "def retrieve(query: str):\n",
    "    \"\"\"Retrieve information related to a query from the database\"\"\"\n",
    "    retrieved_docs = vector_store.similarity_search(query, k=2)\n",
    "    serialized = \"\\n\\n\".join(\n",
    "        (f\"Source: {doc.metadata}\\n\" f\"Content: {doc.page_content}\")\n",
    "        for doc in retrieved_docs\n",
    "    )\n",
    "    return serialized, retrieved_docs\n",
    "\n",
    "@tool(response_format=\"content\")\n",
    "def execute(query: str):\n",
    "    \"\"\"Execute a python code\"\"\"\n",
    "    from io import StringIO\n",
    "    from contextlib import redirect_stdout\n",
    "    import traceback\n",
    "    \n",
    "    f = StringIO()\n",
    "    with redirect_stdout(f):\n",
    "        try:\n",
    "            ret = my_exec(query)\n",
    "        except Exception:\n",
    "            error_stringio = StringIO()\n",
    "            traceback.print_exc(file=error_stringio)\n",
    "            return {\"code\": query, \"result\": f.getvalue(), \"error\": error_stringio.getvalue(), \"status\": \"error\"}\n",
    "    return {\"code\": query, \"result\": f.getvalue() + \"\\n\" + str(ret), \"status\": \"success\"}\n",
    "    \n",
    "memory = MemorySaver()\n",
    "# graph = graph_builder.compile(checkpointer=memory)\n",
    "from langgraph.prebuilt import create_react_agent\n",
    "\n",
    "agent_executor = create_react_agent(llm, [execute, get_website_content], checkpointer=memory)\n"
   ]
  },
  {
   "cell_type": "code",
   "execution_count": 34,
   "metadata": {},
   "outputs": [
    {
     "name": "stdout",
     "output_type": "stream",
     "text": [
      "================================\u001b[1m Human Message \u001b[0m=================================\n",
      "\n",
      "我剛剛問了什麼\n",
      "==================================\u001b[1m Ai Message \u001b[0m==================================\n",
      "\n",
      "您剛剛詢問了要閱讀 eri24816 的博客中的一篇文章。\n"
     ]
    }
   ],
   "source": [
    "input_message = \"我剛剛問了什麼\"\n",
    "config = {\"configurable\": {\"thread_id\": \"abc123\"}}\n",
    "for step in agent_executor.stream(\n",
    "    {\"messages\": [{\"role\": \"user\", \"content\": input_message}]},\n",
    "    stream_mode=\"values\",\n",
    "    config=config,\n",
    "):      \n",
    "    step[\"messages\"][-1].pretty_print()"
   ]
  },
  {
   "cell_type": "code",
   "execution_count": 30,
   "metadata": {},
   "outputs": [
    {
     "data": {
      "text/plain": [
       "{'messages': [HumanMessage(content=\"Read one post in eri24816's blog\", id='3c098ba4-a5d3-4b64-a989-7c770036c872'),\n",
       "  AIMessage(content='', additional_kwargs={'tool_calls': [{'id': 'call_Jv0HECb3FcfEAofK2djCIJOb', 'function': {'arguments': '{\"url\":\"https://eri24816.tumblr.com\"}', 'name': 'get_website_content'}, 'type': 'function'}], 'refusal': None}, response_metadata={'token_usage': {'completion_tokens': 24, 'prompt_tokens': 73, 'total_tokens': 97, 'completion_tokens_details': {'audio_tokens': 0, 'reasoning_tokens': 0, 'accepted_prediction_tokens': 0, 'rejected_prediction_tokens': 0}, 'prompt_tokens_details': {'audio_tokens': 0, 'cached_tokens': 0}}, 'model_name': 'gpt-4o-mini-2024-07-18', 'system_fingerprint': 'fp_d02d531b47', 'finish_reason': 'tool_calls', 'logprobs': None}, id='run-ccc8a0cd-f0a2-4e1b-8c2a-d5969d906c10-0', tool_calls=[{'name': 'get_website_content', 'args': {'url': 'https://eri24816.tumblr.com'}, 'id': 'call_Jv0HECb3FcfEAofK2djCIJOb', 'type': 'tool_call'}], usage_metadata={'input_tokens': 73, 'output_tokens': 24, 'total_tokens': 97}),\n",
       "  ToolMessage(content=\"\\n\\n\\n\\n\\n\\nNot found.\\n\\n\\n\\n\\n\\n \\n\\n\\n\\n\\n\\n\\n\\n                    There's nothing here.\\n                \\n\\n                    Whatever you were looking for doesn't currently exist at this address. Unless you were looking for this error page, in which case: Congrats! You totally found it.\\n                \\n\\nLog in\\nSign up\\n\\n\\n\\n\\n\\n\\n\\n\\n\\n\\n\\n\\n\\n\\n\\nSearch\\n\\n\\n\\nLog in\\nSign up\\n\\n\\n\\n\\n\\n\\n\\n\\n\", name='get_website_content', id='7ffe459a-bda0-4583-a7a8-8fd4d7283a2f', tool_call_id='call_Jv0HECb3FcfEAofK2djCIJOb', artifact=[{'id': None, 'metadata': {'source': 'https://eri24816.tumblr.com', 'title': 'Not found.', 'language': 'No language found.'}, 'page_content': \"\\n\\n\\n\\n\\n\\nNot found.\\n\\n\\n\\n\\n\\n \\n\\n\\n\\n\\n\\n\\n\\n                    There's nothing here.\\n                \\n\\n                    Whatever you were looking for doesn't currently exist at this address. Unless you were looking for this error page, in which case: Congrats! You totally found it.\\n                \\n\\nLog in\\nSign up\\n\\n\\n\\n\\n\\n\\n\\n\\n\\n\\n\\n\\n\\n\\n\\nSearch\\n\\n\\n\\nLog in\\nSign up\\n\\n\\n\\n\\n\\n\\n\\n\\n\", 'type': 'Document'}]),\n",
       "  AIMessage(content='It seems that the blog for eri24816 does not currently exist or is not accessible at the provided address. If you have a different URL or another blog in mind, please let me know!', additional_kwargs={'refusal': None}, response_metadata={'token_usage': {'completion_tokens': 41, 'prompt_tokens': 166, 'total_tokens': 207, 'completion_tokens_details': {'audio_tokens': 0, 'reasoning_tokens': 0, 'accepted_prediction_tokens': 0, 'rejected_prediction_tokens': 0}, 'prompt_tokens_details': {'audio_tokens': 0, 'cached_tokens': 0}}, 'model_name': 'gpt-4o-mini-2024-07-18', 'system_fingerprint': 'fp_0aa8d3e20b', 'finish_reason': 'stop', 'logprobs': None}, id='run-daa02f9e-6078-4cdb-9bdb-4c3c55f63c24-0', usage_metadata={'input_tokens': 166, 'output_tokens': 41, 'total_tokens': 207})]}"
      ]
     },
     "execution_count": 30,
     "metadata": {},
     "output_type": "execute_result"
    }
   ],
   "source": [
    "state = agent_executor.get_state(config=config)\n",
    "state.values"
   ]
  },
  {
   "cell_type": "code",
   "execution_count": 33,
   "metadata": {},
   "outputs": [
    {
     "data": {
      "text/plain": [
       "{'messages': [HumanMessage(content=\"Read one post in eri24816's blog\", id='3c098ba4-a5d3-4b64-a989-7c770036c872'),\n",
       "  AIMessage(content='', additional_kwargs={'tool_calls': [{'id': 'call_Jv0HECb3FcfEAofK2djCIJOb', 'function': {'arguments': '{\"url\":\"https://eri24816.tumblr.com\"}', 'name': 'get_website_content'}, 'type': 'function'}], 'refusal': None}, response_metadata={'token_usage': {'completion_tokens': 24, 'prompt_tokens': 73, 'total_tokens': 97, 'completion_tokens_details': {'audio_tokens': 0, 'reasoning_tokens': 0, 'accepted_prediction_tokens': 0, 'rejected_prediction_tokens': 0}, 'prompt_tokens_details': {'audio_tokens': 0, 'cached_tokens': 0}}, 'model_name': 'gpt-4o-mini-2024-07-18', 'system_fingerprint': 'fp_d02d531b47', 'finish_reason': 'tool_calls', 'logprobs': None}, id='run-ccc8a0cd-f0a2-4e1b-8c2a-d5969d906c10-0', tool_calls=[{'name': 'get_website_content', 'args': {'url': 'https://eri24816.tumblr.com'}, 'id': 'call_Jv0HECb3FcfEAofK2djCIJOb', 'type': 'tool_call'}], usage_metadata={'input_tokens': 73, 'output_tokens': 24, 'total_tokens': 97}),\n",
       "  ToolMessage(content=\"\\n\\n\\n\\n\\n\\nNot found.\\n\\n\\n\\n\\n\\n \\n\\n\\n\\n\\n\\n\\n\\n                    There's nothing here.\\n                \\n\\n                    Whatever you were looking for doesn't currently exist at this address. Unless you were looking for this error page, in which case: Congrats! You totally found it.\\n                \\n\\nLog in\\nSign up\\n\\n\\n\\n\\n\\n\\n\\n\\n\\n\\n\\n\\n\\n\\n\\nSearch\\n\\n\\n\\nLog in\\nSign up\\n\\n\\n\\n\\n\\n\\n\\n\\n\", name='get_website_content', id='7ffe459a-bda0-4583-a7a8-8fd4d7283a2f', tool_call_id='call_Jv0HECb3FcfEAofK2djCIJOb', artifact=[{'id': None, 'metadata': {'source': 'https://eri24816.tumblr.com', 'title': 'Not found.', 'language': 'No language found.'}, 'page_content': \"\\n\\n\\n\\n\\n\\nNot found.\\n\\n\\n\\n\\n\\n \\n\\n\\n\\n\\n\\n\\n\\n                    There's nothing here.\\n                \\n\\n                    Whatever you were looking for doesn't currently exist at this address. Unless you were looking for this error page, in which case: Congrats! You totally found it.\\n                \\n\\nLog in\\nSign up\\n\\n\\n\\n\\n\\n\\n\\n\\n\\n\\n\\n\\n\\n\\n\\nSearch\\n\\n\\n\\nLog in\\nSign up\\n\\n\\n\\n\\n\\n\\n\\n\\n\", 'type': 'Document'}]),\n",
       "  AIMessage(content='It seems that the blog for eri24816 does not currently exist or is not accessible at the provided address. If you have a different URL or another blog in mind, please let me know!', additional_kwargs={'refusal': None}, response_metadata={'token_usage': {'completion_tokens': 41, 'prompt_tokens': 166, 'total_tokens': 207, 'completion_tokens_details': {'audio_tokens': 0, 'reasoning_tokens': 0, 'accepted_prediction_tokens': 0, 'rejected_prediction_tokens': 0}, 'prompt_tokens_details': {'audio_tokens': 0, 'cached_tokens': 0}}, 'model_name': 'gpt-4o-mini-2024-07-18', 'system_fingerprint': 'fp_0aa8d3e20b', 'finish_reason': 'stop', 'logprobs': None}, id='run-daa02f9e-6078-4cdb-9bdb-4c3c55f63c24-0', usage_metadata={'input_tokens': 166, 'output_tokens': 41, 'total_tokens': 207})]}"
      ]
     },
     "execution_count": 33,
     "metadata": {},
     "output_type": "execute_result"
    }
   ],
   "source": [
    "agent_executor.update_state(config=config, values=state.values)\n",
    "agent_executor.get_state(config=config).values"
   ]
  },
  {
   "cell_type": "code",
   "execution_count": 48,
   "metadata": {},
   "outputs": [
    {
     "data": {
      "text/plain": [
       "dict"
      ]
     },
     "execution_count": 48,
     "metadata": {},
     "output_type": "execute_result"
    }
   ],
   "source": [
    "type(state.values)"
   ]
  },
  {
   "cell_type": "code",
   "execution_count": 98,
   "metadata": {},
   "outputs": [],
   "source": [
    "from langchain_core.load import dumpd, dumps, load, loads\n",
    "from langchain_core.messages import BaseMessage\n",
    "import json\n",
    "dumps(state.values['messages'][0])\n",
    "\n",
    "#  use dumps in json.dumps when encountering message type\n",
    "\n",
    "def my_dumps(state):\n",
    "    def custom_serializer(obj):\n",
    "        if isinstance(obj, BaseMessage):\n",
    "            d = dumpd(obj)\n",
    "            d['__dump_by_langchain'] = True\n",
    "            return d\n",
    "        else:\n",
    "            return obj\n",
    "\n",
    "    return json.dumps(state,default=custom_serializer)\n",
    "\n",
    "def my_loads(state):\n",
    "    def custom_deserializer(obj):\n",
    "        if isinstance(obj, dict) and '__dump_by_langchain' in obj:\n",
    "            del obj['__dump_by_langchain']\n",
    "            return load(obj)\n",
    "        return obj\n",
    "\n",
    "    return json.loads(state,object_hook=custom_deserializer)\n"
   ]
  },
  {
   "cell_type": "code",
   "execution_count": 99,
   "metadata": {},
   "outputs": [
    {
     "data": {
      "text/plain": [
       "[{'messages': [HumanMessage(content=\"Read one post in eri24816's blog\", id='3c098ba4-a5d3-4b64-a989-7c770036c872'),\n",
       "   AIMessage(content='', additional_kwargs={'tool_calls': [{'id': 'call_Jv0HECb3FcfEAofK2djCIJOb', 'function': {'arguments': '{\"url\":\"https://eri24816.tumblr.com\"}', 'name': 'get_website_content'}, 'type': 'function'}], 'refusal': None}, response_metadata={'token_usage': {'completion_tokens': 24, 'prompt_tokens': 73, 'total_tokens': 97, 'completion_tokens_details': {'audio_tokens': 0, 'reasoning_tokens': 0, 'accepted_prediction_tokens': 0, 'rejected_prediction_tokens': 0}, 'prompt_tokens_details': {'audio_tokens': 0, 'cached_tokens': 0}}, 'model_name': 'gpt-4o-mini-2024-07-18', 'system_fingerprint': 'fp_d02d531b47', 'finish_reason': 'tool_calls', 'logprobs': None}, id='run-ccc8a0cd-f0a2-4e1b-8c2a-d5969d906c10-0', tool_calls=[{'name': 'get_website_content', 'args': {'url': 'https://eri24816.tumblr.com'}, 'id': 'call_Jv0HECb3FcfEAofK2djCIJOb', 'type': 'tool_call'}], usage_metadata={'input_tokens': 73, 'output_tokens': 24, 'total_tokens': 97}),\n",
       "   ToolMessage(content=\"\\n\\n\\n\\n\\n\\nNot found.\\n\\n\\n\\n\\n\\n \\n\\n\\n\\n\\n\\n\\n\\n                    There's nothing here.\\n                \\n\\n                    Whatever you were looking for doesn't currently exist at this address. Unless you were looking for this error page, in which case: Congrats! You totally found it.\\n                \\n\\nLog in\\nSign up\\n\\n\\n\\n\\n\\n\\n\\n\\n\\n\\n\\n\\n\\n\\n\\nSearch\\n\\n\\n\\nLog in\\nSign up\\n\\n\\n\\n\\n\\n\\n\\n\\n\", name='get_website_content', id='7ffe459a-bda0-4583-a7a8-8fd4d7283a2f', tool_call_id='call_Jv0HECb3FcfEAofK2djCIJOb', artifact=[{'id': None, 'metadata': {'source': 'https://eri24816.tumblr.com', 'title': 'Not found.', 'language': 'No language found.'}, 'page_content': \"\\n\\n\\n\\n\\n\\nNot found.\\n\\n\\n\\n\\n\\n \\n\\n\\n\\n\\n\\n\\n\\n                    There's nothing here.\\n                \\n\\n                    Whatever you were looking for doesn't currently exist at this address. Unless you were looking for this error page, in which case: Congrats! You totally found it.\\n                \\n\\nLog in\\nSign up\\n\\n\\n\\n\\n\\n\\n\\n\\n\\n\\n\\n\\n\\n\\n\\nSearch\\n\\n\\n\\nLog in\\nSign up\\n\\n\\n\\n\\n\\n\\n\\n\\n\", 'type': 'Document'}]),\n",
       "   AIMessage(content='It seems that the blog for eri24816 does not currently exist or is not accessible at the provided address. If you have a different URL or another blog in mind, please let me know!', additional_kwargs={'refusal': None}, response_metadata={'token_usage': {'completion_tokens': 41, 'prompt_tokens': 166, 'total_tokens': 207, 'completion_tokens_details': {'audio_tokens': 0, 'reasoning_tokens': 0, 'accepted_prediction_tokens': 0, 'rejected_prediction_tokens': 0}, 'prompt_tokens_details': {'audio_tokens': 0, 'cached_tokens': 0}}, 'model_name': 'gpt-4o-mini-2024-07-18', 'system_fingerprint': 'fp_0aa8d3e20b', 'finish_reason': 'stop', 'logprobs': None}, id='run-daa02f9e-6078-4cdb-9bdb-4c3c55f63c24-0', usage_metadata={'input_tokens': 166, 'output_tokens': 41, 'total_tokens': 207})]},\n",
       " [],\n",
       " {'configurable': {'thread_id': 'abc123',\n",
       "   'checkpoint_ns': '',\n",
       "   'checkpoint_id': '1efc8e45-41c5-6ad8-8003-3a8ca868bbf8'}},\n",
       " {'source': 'loop',\n",
       "  'writes': {'agent': {'messages': [AIMessage(content='It seems that the blog for eri24816 does not currently exist or is not accessible at the provided address. If you have a different URL or another blog in mind, please let me know!', additional_kwargs={'refusal': None}, response_metadata={'token_usage': {'completion_tokens': 41, 'prompt_tokens': 166, 'total_tokens': 207, 'completion_tokens_details': {'audio_tokens': 0, 'reasoning_tokens': 0, 'accepted_prediction_tokens': 0, 'rejected_prediction_tokens': 0}, 'prompt_tokens_details': {'audio_tokens': 0, 'cached_tokens': 0}}, 'model_name': 'gpt-4o-mini-2024-07-18', 'system_fingerprint': 'fp_0aa8d3e20b', 'finish_reason': 'stop', 'logprobs': None}, id='run-daa02f9e-6078-4cdb-9bdb-4c3c55f63c24-0', usage_metadata={'input_tokens': 166, 'output_tokens': 41, 'total_tokens': 207})]}},\n",
       "  'thread_id': 'abc123',\n",
       "  'step': 3,\n",
       "  'parents': {}},\n",
       " '2025-01-02T08:34:06.101781+00:00',\n",
       " {'configurable': {'thread_id': 'abc123',\n",
       "   'checkpoint_ns': '',\n",
       "   'checkpoint_id': '1efc8e45-3671-6d58-8002-84b8c5a9ce9c'}},\n",
       " []]"
      ]
     },
     "execution_count": 99,
     "metadata": {},
     "output_type": "execute_result"
    }
   ],
   "source": [
    "my_loads(my_dumps(state))"
   ]
  },
  {
   "cell_type": "code",
   "execution_count": 101,
   "metadata": {},
   "outputs": [
    {
     "data": {
      "text/plain": [
       "'[{\"messages\": [{\"lc\": 1, \"type\": \"constructor\", \"id\": [\"langchain\", \"schema\", \"messages\", \"HumanMessage\"], \"kwargs\": {\"content\": \"Read one post in eri24816\\'s blog\", \"type\": \"human\", \"id\": \"3c098ba4-a5d3-4b64-a989-7c770036c872\"}}, {\"lc\": 1, \"type\": \"constructor\", \"id\": [\"langchain\", \"schema\", \"messages\", \"AIMessage\"], \"kwargs\": {\"content\": \"\", \"additional_kwargs\": {\"tool_calls\": [{\"id\": \"call_Jv0HECb3FcfEAofK2djCIJOb\", \"function\": {\"arguments\": \"{\\\\\"url\\\\\":\\\\\"https://eri24816.tumblr.com\\\\\"}\", \"name\": \"get_website_content\"}, \"type\": \"function\"}], \"refusal\": null}, \"response_metadata\": {\"token_usage\": {\"completion_tokens\": 24, \"prompt_tokens\": 73, \"total_tokens\": 97, \"completion_tokens_details\": {\"audio_tokens\": 0, \"reasoning_tokens\": 0, \"accepted_prediction_tokens\": 0, \"rejected_prediction_tokens\": 0}, \"prompt_tokens_details\": {\"audio_tokens\": 0, \"cached_tokens\": 0}}, \"model_name\": \"gpt-4o-mini-2024-07-18\", \"system_fingerprint\": \"fp_d02d531b47\", \"finish_reason\": \"tool_calls\", \"logprobs\": null}, \"type\": \"ai\", \"id\": \"run-ccc8a0cd-f0a2-4e1b-8c2a-d5969d906c10-0\", \"tool_calls\": [{\"name\": \"get_website_content\", \"args\": {\"url\": \"https://eri24816.tumblr.com\"}, \"id\": \"call_Jv0HECb3FcfEAofK2djCIJOb\", \"type\": \"tool_call\"}], \"usage_metadata\": {\"input_tokens\": 73, \"output_tokens\": 24, \"total_tokens\": 97}, \"invalid_tool_calls\": []}}, {\"lc\": 1, \"type\": \"constructor\", \"id\": [\"langchain\", \"schema\", \"messages\", \"ToolMessage\"], \"kwargs\": {\"content\": \"\\\\n\\\\n\\\\n\\\\n\\\\n\\\\nNot found.\\\\n\\\\n\\\\n\\\\n\\\\n\\\\n \\\\n\\\\n\\\\n\\\\n\\\\n\\\\n\\\\n\\\\n                    There\\'s nothing here.\\\\n                \\\\n\\\\n                    Whatever you were looking for doesn\\'t currently exist at this address. Unless you were looking for this error page, in which case: Congrats! You totally found it.\\\\n                \\\\n\\\\nLog in\\\\nSign up\\\\n\\\\n\\\\n\\\\n\\\\n\\\\n\\\\n\\\\n\\\\n\\\\n\\\\n\\\\n\\\\n\\\\n\\\\n\\\\nSearch\\\\n\\\\n\\\\n\\\\nLog in\\\\nSign up\\\\n\\\\n\\\\n\\\\n\\\\n\\\\n\\\\n\\\\n\\\\n\", \"type\": \"tool\", \"name\": \"get_website_content\", \"id\": \"7ffe459a-bda0-4583-a7a8-8fd4d7283a2f\", \"tool_call_id\": \"call_Jv0HECb3FcfEAofK2djCIJOb\", \"artifact\": [{\"id\": null, \"metadata\": {\"source\": \"https://eri24816.tumblr.com\", \"title\": \"Not found.\", \"language\": \"No language found.\"}, \"page_content\": \"\\\\n\\\\n\\\\n\\\\n\\\\n\\\\nNot found.\\\\n\\\\n\\\\n\\\\n\\\\n\\\\n \\\\n\\\\n\\\\n\\\\n\\\\n\\\\n\\\\n\\\\n                    There\\'s nothing here.\\\\n                \\\\n\\\\n                    Whatever you were looking for doesn\\'t currently exist at this address. Unless you were looking for this error page, in which case: Congrats! You totally found it.\\\\n                \\\\n\\\\nLog in\\\\nSign up\\\\n\\\\n\\\\n\\\\n\\\\n\\\\n\\\\n\\\\n\\\\n\\\\n\\\\n\\\\n\\\\n\\\\n\\\\n\\\\nSearch\\\\n\\\\n\\\\n\\\\nLog in\\\\nSign up\\\\n\\\\n\\\\n\\\\n\\\\n\\\\n\\\\n\\\\n\\\\n\", \"type\": \"Document\"}], \"status\": \"success\"}}, {\"lc\": 1, \"type\": \"constructor\", \"id\": [\"langchain\", \"schema\", \"messages\", \"AIMessage\"], \"kwargs\": {\"content\": \"It seems that the blog for eri24816 does not currently exist or is not accessible at the provided address. If you have a different URL or another blog in mind, please let me know!\", \"additional_kwargs\": {\"refusal\": null}, \"response_metadata\": {\"token_usage\": {\"completion_tokens\": 41, \"prompt_tokens\": 166, \"total_tokens\": 207, \"completion_tokens_details\": {\"audio_tokens\": 0, \"reasoning_tokens\": 0, \"accepted_prediction_tokens\": 0, \"rejected_prediction_tokens\": 0}, \"prompt_tokens_details\": {\"audio_tokens\": 0, \"cached_tokens\": 0}}, \"model_name\": \"gpt-4o-mini-2024-07-18\", \"system_fingerprint\": \"fp_0aa8d3e20b\", \"finish_reason\": \"stop\", \"logprobs\": null}, \"type\": \"ai\", \"id\": \"run-daa02f9e-6078-4cdb-9bdb-4c3c55f63c24-0\", \"usage_metadata\": {\"input_tokens\": 166, \"output_tokens\": 41, \"total_tokens\": 207}, \"tool_calls\": [], \"invalid_tool_calls\": []}}]}, [], {\"configurable\": {\"thread_id\": \"abc123\", \"checkpoint_ns\": \"\", \"checkpoint_id\": \"1efc8e45-41c5-6ad8-8003-3a8ca868bbf8\"}}, {\"source\": \"loop\", \"writes\": {\"agent\": {\"messages\": [{\"lc\": 1, \"type\": \"constructor\", \"id\": [\"langchain\", \"schema\", \"messages\", \"AIMessage\"], \"kwargs\": {\"content\": \"It seems that the blog for eri24816 does not currently exist or is not accessible at the provided address. If you have a different URL or another blog in mind, please let me know!\", \"additional_kwargs\": {\"refusal\": null}, \"response_metadata\": {\"token_usage\": {\"completion_tokens\": 41, \"prompt_tokens\": 166, \"total_tokens\": 207, \"completion_tokens_details\": {\"audio_tokens\": 0, \"reasoning_tokens\": 0, \"accepted_prediction_tokens\": 0, \"rejected_prediction_tokens\": 0}, \"prompt_tokens_details\": {\"audio_tokens\": 0, \"cached_tokens\": 0}}, \"model_name\": \"gpt-4o-mini-2024-07-18\", \"system_fingerprint\": \"fp_0aa8d3e20b\", \"finish_reason\": \"stop\", \"logprobs\": null}, \"type\": \"ai\", \"id\": \"run-daa02f9e-6078-4cdb-9bdb-4c3c55f63c24-0\", \"usage_metadata\": {\"input_tokens\": 166, \"output_tokens\": 41, \"total_tokens\": 207}, \"tool_calls\": [], \"invalid_tool_calls\": []}}]}}, \"thread_id\": \"abc123\", \"step\": 3, \"parents\": {}}, \"2025-01-02T08:34:06.101781+00:00\", {\"configurable\": {\"thread_id\": \"abc123\", \"checkpoint_ns\": \"\", \"checkpoint_id\": \"1efc8e45-3671-6d58-8002-84b8c5a9ce9c\"}}, []]'"
      ]
     },
     "execution_count": 101,
     "metadata": {},
     "output_type": "execute_result"
    }
   ],
   "source": [
    "load(dumps(state))"
   ]
  },
  {
   "cell_type": "code",
   "execution_count": 84,
   "metadata": {},
   "outputs": [
    {
     "data": {
      "text/plain": [
       "{'lc': 1,\n",
       " 'type': 'constructor',\n",
       " 'id': ['langchain', 'schema', 'messages', 'HumanMessage'],\n",
       " 'kwargs': {'content': \"Read one post in eri24816's blog\",\n",
       "  'type': 'human',\n",
       "  'id': '3c098ba4-a5d3-4b64-a989-7c770036c872'}}"
      ]
     },
     "execution_count": 84,
     "metadata": {},
     "output_type": "execute_result"
    }
   ],
   "source": [
    "{\n",
    "    \"lc\": 1,\n",
    "    \"type\": \"constructor\",\n",
    "    \"id\": [\"langchain\", \"schema\", \"messages\", \"HumanMessage\"],\n",
    "    \"kwargs\": {\n",
    "        \"content\": \"Read one post in eri24816's blog\",\n",
    "        \"type\": \"human\",\n",
    "        \"id\": \"3c098ba4-a5d3-4b64-a989-7c770036c872\",\n",
    "    },\n",
    "}\n"
   ]
  },
  {
   "cell_type": "code",
   "execution_count": 105,
   "metadata": {},
   "outputs": [
    {
     "data": {
      "image/jpeg": "[encoded data removed]",
      "text/plain": [
       "<IPython.core.display.Image object>"
      ]
     },
     "metadata": {},
     "output_type": "display_data"
    }
   ],
   "source": [
    "from IPython.display import Image, display\n",
    "\n",
    "display(Image(agent_executor.get_graph().draw_mermaid_png()))"
   ]
  },
  {
   "cell_type": "code",
   "execution_count": null,
   "metadata": {},
   "outputs": [],
   "source": [
    "from langgraph.checkpoint.memory import MemorySaver\n",
    "\n",
    "memory = MemorySaver()\n",
    "graph = graph_builder.compile(checkpointer=memory)"
   ]
  },
  {
   "cell_type": "code",
   "execution_count": 104,
   "metadata": {},
   "outputs": [
    {
     "data": {
      "text/plain": [
       "'0b110101100001'"
      ]
     },
     "execution_count": 104,
     "metadata": {},
     "output_type": "execute_result"
    }
   ],
   "source": [
    "'wger'.count"
   ]
  }
 ],
 "metadata": {
  "kernelspec": {
   "display_name": "th",
   "language": "python",
   "name": "python3"
  },
  "language_info": {
   "codemirror_mode": {
    "name": "ipython",
    "version": 3
   },
   "file_extension": ".py",
   "mimetype": "text/x-python",
   "name": "python",
   "nbconvert_exporter": "python",
   "pygments_lexer": "ipython3",
   "version": "3.12.8"
  }
 },
 "nbformat": 4,
 "nbformat_minor": 2
}
