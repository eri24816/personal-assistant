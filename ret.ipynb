{
 "cells": [
  {
   "cell_type": "code",
   "execution_count": 1,
   "metadata": {},
   "outputs": [
    {
     "name": "stderr",
     "output_type": "stream",
     "text": [
      "c:\\Users\\a931e\\miniconda3\\envs\\12\\Lib\\site-packages\\onnxruntime\\capi\\onnxruntime_validation.py:26: UserWarning: Unsupported Windows version (11). ONNX Runtime supports Windows 10 and above, only.\n",
      "  warnings.warn(\n"
     ]
    }
   ],
   "source": [
    "from langchain.retrievers import ParentDocumentRetriever\n",
    "\n",
    "from util import DiskStore\n",
    "from langchain_chroma import Chroma\n",
    "from langchain_community.document_loaders import TextLoader\n",
    "from langchain_openai import OpenAIEmbeddings\n",
    "from langchain_text_splitters import RecursiveCharacterTextSplitter\n",
    "\n",
    "\n",
    "# This text splitter is used to create the child documents\n",
    "child_splitter = RecursiveCharacterTextSplitter(chunk_size=400)\n",
    "# The vectorstore to use to index the child chunks\n",
    "vectorstore = Chroma(\n",
    "    collection_name=\"chunks\", embedding_function=OpenAIEmbeddings(), persist_directory=\"./data/chroma\"\n",
    ")\n",
    "# The storage layer for the parent documents\n",
    "doc_store = DiskStore(\"./data/doc_store\")\n",
    "retriever = ParentDocumentRetriever(\n",
    "    vectorstore=vectorstore,\n",
    "    docstore=doc_store,\n",
    "    child_splitter=child_splitter,\n",
    ")\n",
    "\n",
    "loaders = [\n",
    "    TextLoader(\"synth.txt\"),\n",
    "    TextLoader(\"musicgen.txt\"),\n",
    "]\n",
    "docs = []\n",
    "for loader in loaders:\n",
    "    docs.extend(loader.load())\n",
    "retriever.add_documents(docs, ids=None)"
   ]
  },
  {
   "cell_type": "code",
   "execution_count": 16,
   "metadata": {},
   "outputs": [
    {
     "data": {
      "text/plain": [
       "{'ids': [],\n",
       " 'embeddings': None,\n",
       " 'documents': [],\n",
       " 'uris': None,\n",
       " 'data': None,\n",
       " 'metadatas': [],\n",
       " 'included': [<IncludeEnum.documents: 'documents'>,\n",
       "  <IncludeEnum.metadatas: 'metadatas'>]}"
      ]
     },
     "execution_count": 16,
     "metadata": {},
     "output_type": "execute_result"
    }
   ],
   "source": [
    "vectorstore.get(\"3947a49f-38d4-4719-8970-b0578c86857f\")"
   ]
  },
  {
   "cell_type": "code",
   "execution_count": null,
   "metadata": {},
   "outputs": [],
   "source": []
  },
  {
   "cell_type": "code",
   "execution_count": 2,
   "metadata": {},
   "outputs": [
    {
     "data": {
      "text/plain": [
       "['3947a49f-38d4-4719-8970-b0578c86857f',\n",
       " '53555131-5962-47b6-b4c2-59b9a9002114']"
      ]
     },
     "execution_count": 2,
     "metadata": {},
     "output_type": "execute_result"
    }
   ],
   "source": [
    "list(doc_store.yield_keys())\n",
    "\n"
   ]
  },
  {
   "cell_type": "code",
   "execution_count": 5,
   "metadata": {},
   "outputs": [],
   "source": [
    "sub_docs = vectorstore.similarity_search(\"music generation\")"
   ]
  },
  {
   "cell_type": "code",
   "execution_count": 6,
   "metadata": {},
   "outputs": [
    {
     "data": {
      "text/plain": [
       "Document(metadata={'doc_id': '3947a49f-38d4-4719-8970-b0578c86857f', 'source': 'musicgen.txt'}, page_content='---\\ntitle: \"生成音樂的夢\"\\ndate: 2022-06-10T23:34:05+08:00\\ndraft: false\\nimage: \"https://i.imgur.com/64Dk0jO.png\"\\ncategories: music\\nsummary: \"音樂像文字，還是圖像?\"\\n---\\n![Image](https://i.imgur.com/64Dk0jO.png#center)\\n\\n夢的意思是我根本不知道做不做得出來。\\n\\n## 音樂像文字，還是圖像?')"
      ]
     },
     "execution_count": 6,
     "metadata": {},
     "output_type": "execute_result"
    }
   ],
   "source": [
    "sub_docs[0]"
   ]
  },
  {
   "cell_type": "code",
   "execution_count": 5,
   "metadata": {},
   "outputs": [
    {
     "name": "stderr",
     "output_type": "stream",
     "text": [
      "c:\\Users\\a931e\\miniconda3\\envs\\12\\Lib\\site-packages\\langsmith\\client.py:241: LangSmithMissingAPIKeyWarning: API key must be provided when using hosted LangSmith API\n",
      "  warnings.warn(\n",
      "Failed to multipart ingest runs: langsmith.utils.LangSmithAuthError: Authentication failed for https://api.smith.langchain.com/runs/multipart. HTTPError('401 Client Error: Unauthorized for url: https://api.smith.langchain.com/runs/multipart', '{\"detail\":\"Invalid token\"}')trace=b8f7d5f3-6dcb-4492-8f7d-aabdab8330c0,id=b8f7d5f3-6dcb-4492-8f7d-aabdab8330c0\n"
     ]
    },
    {
     "name": "stderr",
     "output_type": "stream",
     "text": [
      "Failed to multipart ingest runs: langsmith.utils.LangSmithAuthError: Authentication failed for https://api.smith.langchain.com/runs/multipart. HTTPError('401 Client Error: Unauthorized for url: https://api.smith.langchain.com/runs/multipart', '{\"detail\":\"Invalid token\"}')trace=b8f7d5f3-6dcb-4492-8f7d-aabdab8330c0,id=b8f7d5f3-6dcb-4492-8f7d-aabdab8330c0\n"
     ]
    }
   ],
   "source": [
    "retrieved_docs = retriever.invoke(\"wave equation\")"
   ]
  },
  {
   "cell_type": "code",
   "execution_count": 7,
   "metadata": {},
   "outputs": [
    {
     "data": {
      "text/plain": [
       "Document(metadata={'source': 'synth.txt'}, page_content='---\\ntitle: A Physics Based Synth for Piano\\ndate: 2024-11-26\\nauthors:\\n  - eri24816\\nimage: https://i.imgur.com/1dGGCaN.png\\ndraft: false\\ntags:\\n  - audio\\n  - Juce\\n  - Cpp\\ncategories: Uncategorized\\nseries: \\nsummary:\\n---\\nI really like the sounds of piano. They are a subset of all possible sound waves, with some specific mathematical characteristics which make them sound bright but gentle at the same time. I\\'ve been trying to understand what\\'s the magic inside the sounds of piano from i was maybe 12 till now, but I guess my math is still too bad to actually understand it from a fundamental aspect.\\n\\nRecently I try to make a synthesizer for piano by directly simulate the vibration of piano string and sample audio from it. Although the result sounds not actually like a real piano, the journey of implementing the synth is interesting enough to be written down here.\\n\\n# The Model of a String\\n\\nThe simplest form of the equation describing a vibrating string is:\\n$$\\n\\\\frac{\\\\partial^2 u}{\\\\partial t^2} = c^2 \\\\frac{\\\\partial^2 u}{\\\\partial x^2}\\n$$\\nWhere $u$ is the displacement. Intuitively, the equation says that on each point of the string, a tension is applied to push it towards its neighbors because of the string\\'s elasticity.\\n\\nSome of the strings in the real world can be well modeled by the equation above. On the other hand, piano strings have another important mechanical characteristic, stiffness, which represents how much the string tend to not bend. On the equation, stiffness introduces a $4^{th}$ order term.\\n$$\\n\\\\begin{align}\\n\\\\frac{\\\\partial^2 u}{\\\\partial t^2} &= c^2 \\\\frac{\\\\partial^2 u}{\\\\partial x^2} - \\\\frac{ESK^2}{\\\\rho} \\\\frac{\\\\partial^4 u}{\\\\partial x^4}\\n\\\\end{align}\\n$$\\nA nice article [The wave equation for stiff strings and piano tuning](https://upcommons.upc.edu/bitstream/handle/2117/101752/GraciaSanz.piano.RSCM.2017.pdf) provides the solution to the equation of such stiff strings.\\n$$\\n\\\\begin{align}\\nu(x,t) &= \\\\sum_{n=1}^{\\\\infty} \\\\left( a_n \\\\cos(2\\\\pi f_n t) + b_n \\\\sin(2\\\\pi f_n t) \\\\right) \\\\sin\\\\left(\\\\frac{n\\\\pi}{L}x\\\\right)\\n\\\\end{align}\\n$$\\nwhere $f_n = n f_0 \\\\sqrt{1 + Bn^2}$, $B = \\\\frac{\\\\pi^2 ESK^2}{\\\\tau L^2}$, $f_0 = \\\\frac{c}{2L}$.\\n\\nNotice that the term $\\\\sqrt{1 + Bn^2}$ is introduced by the stiffness and causes inharmonicity to the sound of the string.\\n\\nThe amplitudes of harmonics $a_n$ and $b_n$ are the variables to be tracked and calculated in each time step in the simulation. \\n\\nIn a real piano, the string interacts with the hammer, the damper, and the bridge, etc.. When external forces are applied to the string at a certain position $x0$ and with $J$ , $a_n$ and $b_n$ changes accordingly (see [Modeling Stiff String for Numeric Simulation]({{< ref \"Modeling Stiff String for Numeric Simulation\" >}}) for detail):\\n$$\\n\\\\begin{align}\\na_n(t_0^+) &= a_n(t_0^-) + \\\\frac{2J}{L\\\\rho\\\\omega _n} \\\\sin\\\\left(\\\\frac{n\\\\pi}{L}x_0\\\\right) \\\\cos(2\\\\pi f_n t_0) \\\\\\\\\\\\\\nb_n(t_0^+) &= b_n(t_0^-) + \\\\frac{2J}{L\\\\rho\\\\omega _n} \\\\sin\\\\left(\\\\frac{n\\\\pi}{L}x_0\\\\right) \\\\sin(2\\\\pi f_n t_0)\\n\\\\end{align}\\n$$\\n\\n# Turn the Model into Code!\\n\\nHere comes the most fun part when building a simulation: to turn the math into code and verify that the math (I\\'ve worked hard on) actually works.\\n\\nI implemented the synthesizer with Juce, a framework to build VSTs. The actual code is complicated, so I will show simplified code in the following content while keeping the essence. The complete source code is here: https://github.com/eri24816/PhysicsBasedSynth.\\n\\n## Main Loop\\nThis is the main loop for rendering audio. For each time step, the loop updates the simulation then sample the displacement of the string at x=0.01meter. The displacement is then output as the audio sample.\\n```c++\\n// synthVoice.h\\n// class SynthVoice : public juce::SynthesiserVoice\\n\\nvoid renderNextBlock (AudioBuffer <float> &outputBuffer, int startSample, int numSamples) override\\n{\\n\\tfor (int sample = 0; sample < numSamples; ++sample)\\n\\t{\\n\\t\\tsimulation->update();\\n\\t\\t\\n\\t\\tconst float currentSample = string->sampleU(0.01);\\n\\t\\t\\n\\t\\toutputBuffer.addSample(startSample + sample, currentSample);\\n\\t}\\n}\\n```\\n## Simulation Class\\nLet\\'s dive into the line `simulation->update();`. In the simulation, there are two objects, the string and the hammer, and one interaction, the hammer-string-interaction. For each time step, interaction->apply is called, making the hammer and the string add forces to each other. Then object->update on both objects are called to update their state.\\n```c++\\nvoid Simulation::update()\\n{\\n\\tfor (auto& interaction : interactions)\\n\\t{\\n\\t\\tinteraction->apply(t, dt);\\n\\t}\\n\\tfor (auto& object : objects)\\n\\t{\\n\\t\\tobject->update(t, dt);\\n\\t}\\n\\tt += dt;\\n}\\n```\\n\\n## String Class\\n\\nWe finally reach the String class. The string class is the core for the entire simulation and contains heaviest calculation. Because a real-time synth is super performance sensitive, I put much effort and exhausted all possible ways to optimize the code in this class.\\n\\nFirst of all, when the string is instantiated, the constructor initializes the amplitudes $a_n$ and $b_n$ and precomputes some constants.\\n\\n```c++\\nString::String(float L, float tension, float rho, float ESK2, int nHarmonics, float damping)\\n\\t: L(L), tension(tension), rho(rho), ESK2(ESK2), nHarmonics(nHarmonics), transform(nullptr, Vector2<float>{0.0f, 0.0f}), damping(damping)\\n{\\n\\t// precompute constants for speed\\n\\tB = PI * PI * ESK2 / tension / L / L;\\n\\tc = std::sqrtf(tension / rho);\\n\\tf0 = c / (2 * L);\\n\\t\\n\\tfor (int n = 1; n <= nHarmonics; n++)\\n\\t{\\n\\t\\t// precompute more constants\\n\\t\\tharmonicFreqs[n] = getHarmonicFreq(n);\\n\\t\\tharmonicOmega[n] = TWO_PI * harmonicFreqs[n];\\n\\n\\t\\t// initialize the amplitudes\\n\\t\\ta[n] = 0;\\n\\t\\tb[n] = 0;\\n\\t}\\n}\\n```\\n\\nThe `sampleU` method provides a way to get the current value of $u(x)$. It is useful for sampling sound and calculating the interaction with the hammer.\\n\\n```c++\\nfloat String::sampleU(float x) const\\n{\\n\\tfloat u = 0;\\n\\tfloat pi_x_div_L = PI * x / L;\\n\\tfor (int n = 1; n <= nHarmonics; n++)\\n\\t{\\n\\t\\tconst float xComp = std::sin(n * pi_x_div_L);\\n\\t\\tconst float omegaT = harmonicOmega[n] * t;\\n\\t\\tu += (a[n] * std::cos(omegaT) + b[n] * std::sin(omegaT)) * xComp;\\n\\t}\\n\\treturn u;\\n}\\n```\\n\\nThe `update` method does damping. Very simple.\\n\\n```c++\\nvoid String::update(float t, float dt)\\n{\\n\\t// A String have to store the time to have a complete state\\n\\tthis->t = t;\\n\\t// TODO: use a physical damping model\\n\\tif (damping != 0) {\\n\\t\\tfor (int n = 1; n <= nHarmonics; n++)\\n\\t\\t{\\n\\t\\t\\tfloat factor = std::exp(-damping * 0.002 * dt * harmonicFreqs[n]);\\n\\t\\t\\ta[n] *= factor;\\n\\t\\t\\tb[n] *= factor;\\n\\t\\t}\\n\\t}\\n}\\n```\\n\\nThe `applyImpulse` method is called by the hammer-string-interaction. It update the values of $a_n$ and $b_n$ due to the external impulse.\\n\\n```c++\\nvoid String::applyImpulse(float x, float J)\\n{\\n\\tfor (int n = 1; n <= nHarmonics; n++)\\n\\t{\\n\\t\\tconst float xComp = 2 * J / L / rho / harmonicOmega[n] * std::sin(n * PI * x / L);\\n\\t\\tconst float omegaT = harmonicOmega[n] * t;\\n\\n\\t\\ta[n] += xComp * std::cos(omegaT);\\n\\t\\tb[n] += xComp * std::sin(omegaT);\\n\\t}\\n}\\n```\\n\\n# Optimization: Vectorized Operations\\n...')"
      ]
     },
     "execution_count": 7,
     "metadata": {},
     "output_type": "execute_result"
    }
   ],
   "source": [
    "retrieved_docs[0]"
   ]
  }
 ],
 "metadata": {
  "kernelspec": {
   "display_name": "12",
   "language": "python",
   "name": "python3"
  },
  "language_info": {
   "codemirror_mode": {
    "name": "ipython",
    "version": 3
   },
   "file_extension": ".py",
   "mimetype": "text/x-python",
   "name": "python",
   "nbconvert_exporter": "python",
   "pygments_lexer": "ipython3",
   "version": "3.12.8"
  }
 },
 "nbformat": 4,
 "nbformat_minor": 2
}
