{
 "cells": [
  {
   "cell_type": "code",
   "execution_count": 1,
   "metadata": {},
   "outputs": [
    {
     "name": "stderr",
     "output_type": "stream",
     "text": [
      "c:\\Users\\a931e\\miniconda3\\envs\\12\\Lib\\site-packages\\onnxruntime\\capi\\onnxruntime_validation.py:26: UserWarning: Unsupported Windows version (11). ONNX Runtime supports Windows 10 and above, only.\n",
      "  warnings.warn(\n"
     ]
    }
   ],
   "source": [
    "from langchain.retrievers import ParentDocumentRetriever\n",
    "\n",
    "from util import DiskStore\n",
    "from langchain_chroma import Chroma\n",
    "from langchain_community.document_loaders import TextLoader\n",
    "from langchain_openai import OpenAIEmbeddings\n",
    "from langchain_text_splitters import RecursiveCharacterTextSplitter\n",
    "\n",
    "\n",
    "# This text splitter is used to create the child documents\n",
    "child_splitter = RecursiveCharacterTextSplitter(chunk_size=400)\n",
    "# The vectorstore to use to index the child chunks\n",
    "vectorstore = Chroma(\n",
    "    collection_name=\"chunks\", embedding_function=OpenAIEmbeddings(), persist_directory=\"./data/chroma\"\n",
    ")\n",
    "# The storage layer for the parent documents\n",
    "doc_store = DiskStore(\"./data/doc_store\")\n",
    "retriever = ParentDocumentRetriever(\n",
    "    vectorstore=vectorstore,\n",
    "    docstore=doc_store,\n",
    "    child_splitter=child_splitter,\n",
    ")\n",
    "\n",
    "loaders = [\n",
    "    TextLoader(\"synth.txt\"),\n",
    "    TextLoader(\"musicgen.txt\"),\n",
    "]\n",
    "docs = []\n",
    "for loader in loaders:\n",
    "    docs.extend(loader.load())\n",
    "retriever.add_documents(docs, ids=None)"
   ]
  },
  {
   "cell_type": "code",
   "execution_count": 16,
   "metadata": {},
   "outputs": [
    {
     "data": {
      "text/plain": [
       "{'ids': [],\n",
       " 'embeddings': None,\n",
       " 'documents': [],\n",
       " 'uris': None,\n",
       " 'data': None,\n",
       " 'metadatas': [],\n",
       " 'included': [<IncludeEnum.documents: 'documents'>,\n",
       "  <IncludeEnum.metadatas: 'metadatas'>]}"
      ]
     },
     "execution_count": 16,
     "metadata": {},
     "output_type": "execute_result"
    }
   ],
   "source": [
    "vectorstore.get(\"3947a49f-38d4-4719-8970-b0578c86857f\")"
   ]
  },
  {
   "cell_type": "code",
   "execution_count": null,
   "metadata": {},
   "outputs": [],
   "source": []
  },
  {
   "cell_type": "code",
   "execution_count": 2,
   "metadata": {},
   "outputs": [
    {
     "data": {
      "text/plain": [
       "['3947a49f-38d4-4719-8970-b0578c86857f',\n",
       " '53555131-5962-47b6-b4c2-59b9a9002114']"
      ]
     },
     "execution_count": 2,
     "metadata": {},
     "output_type": "execute_result"
    }
   ],
   "source": [
    "list(doc_store.yield_keys())\n",
    "\n"
   ]
  },
  {
   "cell_type": "code",
   "execution_count": 5,
   "metadata": {},
   "outputs": [],
   "source": [
    "sub_docs = vectorstore.similarity_search(\"music generation\")"
   ]
  },
  {
   "cell_type": "code",
   "execution_count": 6,
   "metadata": {},
   "outputs": [
    {
     "data": {
      "text/plain": [
       "Document(metadata={'doc_id': '3947a49f-38d4-4719-8970-b0578c86857f', 'source': 'musicgen.txt'}, page_content='---\\ntitle: \"生成音樂的夢\"\\ndate: 2022-06-10T23:34:05+08:00\\ndraft: false\\nimage: \"https://i.imgur.com/64Dk0jO.png\"\\ncategories: music\\nsummary: \"音樂像文字，還是圖像?\"\\n---\\n![Image](https://i.imgur.com/64Dk0jO.png#center)\\n\\n夢的意思是我根本不知道做不做得出來。\\n\\n## 音樂像文字，還是圖像?')"
      ]
     },
     "execution_count": 6,
     "metadata": {},
     "output_type": "execute_result"
    }
   ],
   "source": [
    "sub_docs[0]"
   ]
  },
  {
   "cell_type": "code",
   "execution_count": 5,
   "metadata": {},
   "outputs": [
    {
     "name": "stderr",
     "output_type": "stream",
     "text": [
      "c:\\Users\\a931e\\miniconda3\\envs\\12\\Lib\\site-packages\\langsmith\\client.py:241: LangSmithMissingAPIKeyWarning: API key must be provided when using hosted LangSmith API\n",
      "  warnings.warn(\n",
      "Failed to multipart ingest runs: langsmith.utils.LangSmithAuthError: Authentication failed for https://api.smith.langchain.com/runs/multipart. HTTPError('401 Client Error: Unauthorized for url: https://api.smith.langchain.com/runs/multipart', '{\"detail\":\"Invalid token\"}')trace=b8f7d5f3-6dcb-4492-8f7d-aabdab8330c0,id=b8f7d5f3-6dcb-4492-8f7d-aabdab8330c0\n"
     ]
    },
    {
     "name": "stderr",
     "output_type": "stream",
     "text": [
      "Failed to multipart ingest runs: langsmith.utils.LangSmithAuthError: Authentication failed for https://api.smith.langchain.com/runs/multipart. HTTPError('401 Client Error: Unauthorized for url: https://api.smith.langchain.com/runs/multipart', '{\"detail\":\"Invalid token\"}')trace=b8f7d5f3-6dcb-4492-8f7d-aabdab8330c0,id=b8f7d5f3-6dcb-4492-8f7d-aabdab8330c0\n"
     ]
    }
   ],
   "source": [
    "retrieved_docs = retriever.invoke(\"wave equation\")"
   ]
  },
  {
   "cell_type": "code",
   "execution_count": 4,
   "metadata": {},
   "outputs": [
    {
     "data": {
      "text/plain": [
       "[Document(metadata={'source': 'https://www.google.com/search?q=eri24816', 'title': 'eri24816 - Google 搜尋', 'language': 'zh-TW'}, page_content=\"eri24816 - Google 搜尋Google×如果系統沒有在數秒鐘後將您重新導向，請按一下這裡。    全部圖片影片地圖 新聞 購物 書籍 搜尋工具    不限語言不限語言搜尋所有中文網頁搜尋繁體中文網頁不限時間不限時間 過去 1 小時 過去 24 小時 過去 1 週 過去 1 個月 過去 1 年所有結果所有結果一字不差查看以下內容的搜尋結果：eri24816歌曲： Level Up、1205和0904eri24816's blogeri24816.github.io希望在大學的壓力下不要丟失我的初衷。 那就是：我喜愛這個世界，所以想以最high level 的角度理解世界，幫各種我喜歡的東西建立模型。例如音樂生成模型、style\\xa0...eri24816's blogeri24816.tw我想以最high level 的角度理解世界，幫各種我喜歡的東西建立模型。例如音樂生成模型、style transfer、物理模擬。 ... Listen to my music on spotify!程品奕 eri24816 - GitHubgithub.com › eri24816Build a model for anything. No model is just a bad model. 44 followers · 32 following. NCKU Computer Science. Taiwan; https://eri24816.tw/ · @eri24816\\xa0...幫各種我喜歡的東西建立模型。例如音樂生成模型 - eri24816's blogeri24816.tw › ...我想以最high level 的角度理解世界，幫各種我喜歡的東西建立模型。例如音樂生成模型、style transfer、物理模擬。 ... Listen to my music on spotify!Eric Chen (@eri24816) • Threads, Say morewww.threads.net › @eri2481697 Followers • 16 Threads. See the latest conversations with @eri24816.Eri24816 - Mediummedium.com › ...Read writing from Eri24816 on Medium. Every day, Eri24816 and thousands of other voices read, write, and share important stories on Medium.eri24816/slurm_gui: A web GUI for Slurm job management - GitHubgithub.com › eri24816 › slurm_guiA web GUI for Slurm job management. Contribute to eri24816/slurm_gui development by creating an account on GitHub.比Python 更人性化- 圖形化程式語言Grapycal｜講者eri24816www.youtube.com › watch2024年5月2日 · SITCON 2024 官網：https://sitcon.org/2024/ SITCON 2024 議程：https://sitcon.org/2024/agenda/Eric Chen - Facebookwww.facebook.com › Eric-Chen-100009817681140學習方面: 1. 行前作業，線上課程，確保你有準備好。 2. 監督式學習與強化式學習，後者學習到如何使用OpenAI的RL工具。 3. 用對戰積分來知道自己的學習成效。 4. 來自包含\\xa0...eri24816 - SoundCloudsoundcloud.com › eri24816-musicPlay eri24816 on SoundCloud and discover followers on SoundCloud | Stream tracks, albums, playlists on desktop and mobile.  下一頁 >  大同區 台北市根據你的 IP 位址\\xa0-\\xa0瞭解詳情登入設定隱私權服務條款深色主題：關閉 \")]"
      ]
     },
     "execution_count": 4,
     "metadata": {},
     "output_type": "execute_result"
    }
   ],
   "source": [
    "from langchain_community.document_loaders import WebBaseLoader\n",
    "WebBaseLoader(web_paths=(\"https://www.google.com/search?q=eri24816\",)).load()\n"
   ]
  },
  {
   "cell_type": "code",
   "execution_count": 19,
   "metadata": {},
   "outputs": [],
   "source": [
    "from typing import Iterator, Any\n",
    "\n",
    "\n",
    "from bs4 import BeautifulSoup\n",
    "from langchain_core.documents import Document\n",
    "\n",
    "from bs4 import BeautifulSoup, NavigableString, CData, Tag\n",
    "\n",
    "from typing import Optional, Union\n",
    "\n",
    "\n",
    "def _build_metadata(soup: Any, url: str) -> dict:\n",
    "    \"\"\"Build metadata from BeautifulSoup output.\"\"\"\n",
    "    metadata = {\"source\": url}\n",
    "    if title := soup.find(\"title\"):\n",
    "        metadata[\"title\"] = title.get_text()\n",
    "    if description := soup.find(\"meta\", attrs={\"name\": \"description\"}):\n",
    "        metadata[\"description\"] = description.get(\"content\", \"No description found.\")\n",
    "    if html := soup.find(\"html\"):\n",
    "        metadata[\"language\"] = html.get(\"lang\", \"No language found.\")\n",
    "    return metadata\n",
    "\n",
    "\n",
    "class MyBeautifulSoup(BeautifulSoup):\n",
    "    def _all_strings(self, strip=False, types=(NavigableString, CData)):\n",
    "        for descendant in self.descendants:\n",
    "            # return \"a\" string representation if we encounter it\n",
    "            if isinstance(descendant, Tag) and descendant.name == \"a\":\n",
    "                yield str(descendant)\n",
    "\n",
    "            # skip an inner text node inside \"a\"\n",
    "            if (\n",
    "                isinstance(descendant, NavigableString)\n",
    "                and descendant.parent.name == \"a\"\n",
    "            ):\n",
    "                continue\n",
    "\n",
    "            # default behavior\n",
    "            if (types is None and not isinstance(descendant, NavigableString)) or (\n",
    "                types is not None and (type(types) is not object ) and type(descendant) not in types\n",
    "            ):\n",
    "                continue\n",
    "\n",
    "            if strip:\n",
    "                descendant = descendant.strip()\n",
    "                if len(descendant) == 0:\n",
    "                    continue\n",
    "            yield descendant\n",
    "\n",
    "\n",
    "\n",
    "\n",
    "class MyWebLoader(WebBaseLoader):\n",
    "    def _scrape(\n",
    "        self,\n",
    "        url: str,\n",
    "        parser: Union[str, None] = None,\n",
    "        bs_kwargs: Optional[dict] = None,\n",
    "    ) -> MyBeautifulSoup:\n",
    "    \n",
    "        if parser is None:\n",
    "            if url.endswith(\".xml\"):\n",
    "                parser = \"xml\"\n",
    "            else:\n",
    "                parser = self.default_parser\n",
    "    \n",
    "        self._check_parser(parser)\n",
    "    \n",
    "        html_doc = self.session.get(url, **self.requests_kwargs)\n",
    "        if self.raise_for_status:\n",
    "            html_doc.raise_for_status()\n",
    "    \n",
    "        if self.encoding is not None:\n",
    "            html_doc.encoding = self.encoding\n",
    "        elif self.autoset_encoding:\n",
    "            html_doc.encoding = html_doc.apparent_encoding\n",
    "        return MyBeautifulSoup(html_doc.text, parser, **(bs_kwargs or {}))\n",
    "    \n",
    "    def lazy_load(self) -> Iterator[Document]:\n",
    "        for path in self.web_paths:\n",
    "            soup: MyBeautifulSoup = self._scrape(path, bs_kwargs=self.bs_kwargs)\n",
    "            text = soup.get_text(**self.bs_get_text_kwargs)\n",
    "            metadata = _build_metadata(soup, path)\n",
    "            yield Document(page_content=text, metadata=metadata)\n"
   ]
  },
  {
   "cell_type": "code",
   "execution_count": 20,
   "metadata": {},
   "outputs": [
    {
     "ename": "TypeError",
     "evalue": "sequence item 1: expected str instance, Tag found",
     "output_type": "error",
     "traceback": [
      "\u001b[1;31m---------------------------------------------------------------------------\u001b[0m",
      "\u001b[1;31mTypeError\u001b[0m                                 Traceback (most recent call last)",
      "Cell \u001b[1;32mIn[20], line 2\u001b[0m\n\u001b[0;32m      1\u001b[0m \u001b[38;5;28mlist\u001b[39m(\n\u001b[1;32m----> 2\u001b[0m \u001b[43mMyWebLoader\u001b[49m\u001b[43m(\u001b[49m\u001b[43mweb_paths\u001b[49m\u001b[38;5;241;43m=\u001b[39;49m\u001b[43m(\u001b[49m\u001b[38;5;124;43m\"\u001b[39;49m\u001b[38;5;124;43mhttps://www.google.com/search?q=eri24816\u001b[39;49m\u001b[38;5;124;43m\"\u001b[39;49m\u001b[43m,\u001b[49m\u001b[43m)\u001b[49m\u001b[43m)\u001b[49m\u001b[38;5;241;43m.\u001b[39;49m\u001b[43mload\u001b[49m\u001b[43m(\u001b[49m\u001b[43m)\u001b[49m)\n",
      "File \u001b[1;32mc:\\Users\\a931e\\miniconda3\\envs\\12\\Lib\\site-packages\\langchain_core\\document_loaders\\base.py:30\u001b[0m, in \u001b[0;36mBaseLoader.load\u001b[1;34m(self)\u001b[0m\n\u001b[0;32m     28\u001b[0m \u001b[38;5;28;01mdef\u001b[39;00m \u001b[38;5;21mload\u001b[39m(\u001b[38;5;28mself\u001b[39m) \u001b[38;5;241m-\u001b[39m\u001b[38;5;241m>\u001b[39m List[Document]:\n\u001b[0;32m     29\u001b[0m \u001b[38;5;250m    \u001b[39m\u001b[38;5;124;03m\"\"\"Load data into Document objects.\"\"\"\u001b[39;00m\n\u001b[1;32m---> 30\u001b[0m     \u001b[38;5;28;01mreturn\u001b[39;00m \u001b[38;5;28;43mlist\u001b[39;49m\u001b[43m(\u001b[49m\u001b[38;5;28;43mself\u001b[39;49m\u001b[38;5;241;43m.\u001b[39;49m\u001b[43mlazy_load\u001b[49m\u001b[43m(\u001b[49m\u001b[43m)\u001b[49m\u001b[43m)\u001b[49m\n",
      "Cell \u001b[1;32mIn[19], line 82\u001b[0m, in \u001b[0;36mMyWebLoader.lazy_load\u001b[1;34m(self)\u001b[0m\n\u001b[0;32m     80\u001b[0m \u001b[38;5;28;01mfor\u001b[39;00m path \u001b[38;5;129;01min\u001b[39;00m \u001b[38;5;28mself\u001b[39m\u001b[38;5;241m.\u001b[39mweb_paths:\n\u001b[0;32m     81\u001b[0m     soup: MyBeautifulSoup \u001b[38;5;241m=\u001b[39m \u001b[38;5;28mself\u001b[39m\u001b[38;5;241m.\u001b[39m_scrape(path, bs_kwargs\u001b[38;5;241m=\u001b[39m\u001b[38;5;28mself\u001b[39m\u001b[38;5;241m.\u001b[39mbs_kwargs)\n\u001b[1;32m---> 82\u001b[0m     text \u001b[38;5;241m=\u001b[39m \u001b[43msoup\u001b[49m\u001b[38;5;241;43m.\u001b[39;49m\u001b[43mget_text\u001b[49m\u001b[43m(\u001b[49m\u001b[38;5;241;43m*\u001b[39;49m\u001b[38;5;241;43m*\u001b[39;49m\u001b[38;5;28;43mself\u001b[39;49m\u001b[38;5;241;43m.\u001b[39;49m\u001b[43mbs_get_text_kwargs\u001b[49m\u001b[43m)\u001b[49m\n\u001b[0;32m     83\u001b[0m     metadata \u001b[38;5;241m=\u001b[39m _build_metadata(soup, path)\n\u001b[0;32m     84\u001b[0m     \u001b[38;5;28;01myield\u001b[39;00m Document(page_content\u001b[38;5;241m=\u001b[39mtext, metadata\u001b[38;5;241m=\u001b[39mmetadata)\n",
      "File \u001b[1;32mc:\\Users\\a931e\\miniconda3\\envs\\12\\Lib\\site-packages\\bs4\\element.py:292\u001b[0m, in \u001b[0;36mPageElement.get_text\u001b[1;34m(self, separator, strip, types)\u001b[0m\n\u001b[0;32m    273\u001b[0m \u001b[38;5;28;01mdef\u001b[39;00m \u001b[38;5;21mget_text\u001b[39m(\u001b[38;5;28mself\u001b[39m, separator\u001b[38;5;241m=\u001b[39m\u001b[38;5;124m\"\u001b[39m\u001b[38;5;124m\"\u001b[39m, strip\u001b[38;5;241m=\u001b[39m\u001b[38;5;28;01mFalse\u001b[39;00m,\n\u001b[0;32m    274\u001b[0m              types\u001b[38;5;241m=\u001b[39mdefault):\n\u001b[0;32m    275\u001b[0m \u001b[38;5;250m    \u001b[39m\u001b[38;5;124;03m\"\"\"Get all child strings of this PageElement, concatenated using the\u001b[39;00m\n\u001b[0;32m    276\u001b[0m \u001b[38;5;124;03m    given separator.\u001b[39;00m\n\u001b[0;32m    277\u001b[0m \n\u001b[1;32m   (...)\u001b[0m\n\u001b[0;32m    290\u001b[0m \u001b[38;5;124;03m    :return: A string.\u001b[39;00m\n\u001b[0;32m    291\u001b[0m \u001b[38;5;124;03m    \"\"\"\u001b[39;00m\n\u001b[1;32m--> 292\u001b[0m     \u001b[38;5;28;01mreturn\u001b[39;00m \u001b[43mseparator\u001b[49m\u001b[38;5;241;43m.\u001b[39;49m\u001b[43mjoin\u001b[49m\u001b[43m(\u001b[49m\u001b[43m[\u001b[49m\u001b[43ms\u001b[49m\u001b[43m \u001b[49m\u001b[38;5;28;43;01mfor\u001b[39;49;00m\u001b[43m \u001b[49m\u001b[43ms\u001b[49m\u001b[43m \u001b[49m\u001b[38;5;129;43;01min\u001b[39;49;00m\u001b[43m \u001b[49m\u001b[38;5;28;43mself\u001b[39;49m\u001b[38;5;241;43m.\u001b[39;49m\u001b[43m_all_strings\u001b[49m\u001b[43m(\u001b[49m\n\u001b[0;32m    293\u001b[0m \u001b[43m                \u001b[49m\u001b[43mstrip\u001b[49m\u001b[43m,\u001b[49m\u001b[43m \u001b[49m\u001b[43mtypes\u001b[49m\u001b[38;5;241;43m=\u001b[39;49m\u001b[43mtypes\u001b[49m\u001b[43m)\u001b[49m\u001b[43m]\u001b[49m\u001b[43m)\u001b[49m\n",
      "\u001b[1;31mTypeError\u001b[0m: sequence item 1: expected str instance, Tag found"
     ]
    }
   ],
   "source": [
    "list(\n",
    "MyWebLoader(web_paths=(\"https://www.google.com/search?q=eri24816\",)).load())"
   ]
  }
 ],
 "metadata": {
  "kernelspec": {
   "display_name": "12",
   "language": "python",
   "name": "python3"
  },
  "language_info": {
   "codemirror_mode": {
    "name": "ipython",
    "version": 3
   },
   "file_extension": ".py",
   "mimetype": "text/x-python",
   "name": "python",
   "nbconvert_exporter": "python",
   "pygments_lexer": "ipython3",
   "version": "3.12.8"
  }
 },
 "nbformat": 4,
 "nbformat_minor": 2
}
